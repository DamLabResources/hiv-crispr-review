{
 "cells": [
  {
   "cell_type": "code",
   "execution_count": 1,
   "metadata": {
    "collapsed": false
   },
   "outputs": [],
   "source": [
    "import pandas as pd\n",
    "import numpy as np\n",
    "import matplotlib.pyplot as plt\n",
    "import seaborn as sbn\n",
    "sbn.set(font_scale=1.5)\n",
    "sbn.set_style('white')\n",
    "import os\n",
    "\n",
    "%matplotlib inline"
   ]
  },
  {
   "cell_type": "markdown",
   "metadata": {},
   "source": [
    "# MIT Webserver Processing\n",
    "\n",
    "Due to the 250bp limitation of the http://crispr.mit.edu/ website we uploaded 250 bp segments with 50 bp overlaps. Using the batch-mode submission the results were exported as a set of Genbank files in which the potential gRNAs are encoded as sequence features. These files are compressed in the `data/MITData.tar.gz` file."
   ]
  },
  {
   "cell_type": "code",
   "execution_count": 2,
   "metadata": {
    "collapsed": false
   },
   "outputs": [
    {
     "data": {
      "text/html": [
       "<div>\n",
       "<table border=\"1\" class=\"dataframe\">\n",
       "  <thead>\n",
       "    <tr style=\"text-align: right;\">\n",
       "      <th></th>\n",
       "      <th>MITScore</th>\n",
       "      <th>Seq</th>\n",
       "      <th>Start</th>\n",
       "      <th>Stop</th>\n",
       "      <th>Strand</th>\n",
       "    </tr>\n",
       "  </thead>\n",
       "  <tbody>\n",
       "    <tr>\n",
       "      <th>233</th>\n",
       "      <td>81.0</td>\n",
       "      <td>AAGGATATCTTGTCTTCGTTGGG</td>\n",
       "      <td>19</td>\n",
       "      <td>42</td>\n",
       "      <td>-1</td>\n",
       "    </tr>\n",
       "    <tr>\n",
       "      <th>234</th>\n",
       "      <td>81.0</td>\n",
       "      <td>CAAGGATATCTTGTCTTCGTTGG</td>\n",
       "      <td>20</td>\n",
       "      <td>43</td>\n",
       "      <td>-1</td>\n",
       "    </tr>\n",
       "    <tr>\n",
       "      <th>243</th>\n",
       "      <td>69.0</td>\n",
       "      <td>GACAAGATATCCTTGATCTGTGG</td>\n",
       "      <td>28</td>\n",
       "      <td>51</td>\n",
       "      <td>1</td>\n",
       "    </tr>\n",
       "    <tr>\n",
       "      <th>235</th>\n",
       "      <td>73.0</td>\n",
       "      <td>TGTGGTAGATCCACAGATCAAGG</td>\n",
       "      <td>38</td>\n",
       "      <td>61</td>\n",
       "      <td>-1</td>\n",
       "    </tr>\n",
       "    <tr>\n",
       "      <th>244</th>\n",
       "      <td>61.0</td>\n",
       "      <td>CTGTGGATCTACCACACACAAGG</td>\n",
       "      <td>45</td>\n",
       "      <td>68</td>\n",
       "      <td>1</td>\n",
       "    </tr>\n",
       "  </tbody>\n",
       "</table>\n",
       "</div>"
      ],
      "text/plain": [
       "     MITScore                      Seq  Start  Stop  Strand\n",
       "233      81.0  AAGGATATCTTGTCTTCGTTGGG     19    42      -1\n",
       "234      81.0  CAAGGATATCTTGTCTTCGTTGG     20    43      -1\n",
       "243      69.0  GACAAGATATCCTTGATCTGTGG     28    51       1\n",
       "235      73.0  TGTGGTAGATCCACAGATCAAGG     38    61      -1\n",
       "244      61.0  CTGTGGATCTACCACACACAAGG     45    68       1"
      ]
     },
     "execution_count": 2,
     "metadata": {},
     "output_type": "execute_result"
    }
   ],
   "source": [
    "import tarfile\n",
    "from Bio import SeqIO\n",
    "import re\n",
    "\n",
    "reg = re.compile('score: (\\d{1,2})')\n",
    "\n",
    "\n",
    "def process_feat(feat):\n",
    "    \"\"\"Extract the score, start, and strand from the Genbank feature. \"\"\"\n",
    "    m = reg.search(feat.qualifiers['note'][0])\n",
    "    \n",
    "    tdict = {'Start':feat.location.start.real,\n",
    "             'Stop':feat.location.end.real, \n",
    "             'MITScore':float(m.groups()[0]), \n",
    "             'Seq':str(feat.extract(seqR).seq), \n",
    "             'Strand': feat.location.strand}\n",
    "    \n",
    "    return tdict\n",
    "\n",
    "locs = []\n",
    "with tarfile.open('data/MITData.tar.gz', mode='r:gz') as tr:\n",
    "\n",
    "    for f in tr:\n",
    "        # The offset of the submission is encoded as the number before the _\n",
    "        # For example: 3601_all_guides.gb starts at an offset of 3601\n",
    "        offset = int(f.name.split('/')[-1].split('_')[0])+1\n",
    "        seqR = SeqIO.parse(tr.extractfile(f), 'genbank').next()\n",
    "\n",
    "        for feat in seqR.features:\n",
    "            locs.append(process_feat(feat))\n",
    "            locs[-1]['Start'] += offset\n",
    "            locs[-1]['Stop'] += offset\n",
    "        \n",
    "df = pd.DataFrame(locs).sort_values(by='Start')\n",
    "df.head()"
   ]
  },
  {
   "cell_type": "code",
   "execution_count": 3,
   "metadata": {
    "collapsed": false
   },
   "outputs": [],
   "source": [
    "# Read in the results from the previous sequence processing script\n",
    "all_data = pd.read_excel('results/summary_res_all_gRNAs.xlsx')"
   ]
  },
  {
   "cell_type": "code",
   "execution_count": 4,
   "metadata": {
    "collapsed": false
   },
   "outputs": [
    {
     "data": {
      "text/html": [
       "<div>\n",
       "<table border=\"1\" class=\"dataframe\">\n",
       "  <thead>\n",
       "    <tr style=\"text-align: right;\">\n",
       "      <th></th>\n",
       "      <th>Citation</th>\n",
       "      <th>Name</th>\n",
       "      <th>Start</th>\n",
       "      <th>Stop</th>\n",
       "      <th>gRNA</th>\n",
       "      <th>Percent cleaved</th>\n",
       "      <th>Entropy (bits)</th>\n",
       "      <th>Number of Sequences Evaluated</th>\n",
       "      <th>Region</th>\n",
       "      <th>MIT Score</th>\n",
       "    </tr>\n",
       "  </thead>\n",
       "  <tbody>\n",
       "    <tr>\n",
       "      <th>0</th>\n",
       "      <td>23974631</td>\n",
       "      <td>T5</td>\n",
       "      <td>465</td>\n",
       "      <td>484</td>\n",
       "      <td>GTTAGACCAGATCTGAGCCT.NGG</td>\n",
       "      <td>68.274303</td>\n",
       "      <td>2.615312</td>\n",
       "      <td>1327</td>\n",
       "      <td>LTR</td>\n",
       "      <td>67.0</td>\n",
       "    </tr>\n",
       "    <tr>\n",
       "      <th>1</th>\n",
       "      <td>23974631</td>\n",
       "      <td>T6</td>\n",
       "      <td>343</td>\n",
       "      <td>362</td>\n",
       "      <td>GCTACAAGGGACTTTCCGCT.NGG</td>\n",
       "      <td>84.306293</td>\n",
       "      <td>2.959877</td>\n",
       "      <td>1319</td>\n",
       "      <td>LTR</td>\n",
       "      <td>NaN</td>\n",
       "    </tr>\n",
       "    <tr>\n",
       "      <th>2</th>\n",
       "      <td>25049410</td>\n",
       "      <td>LTR-A</td>\n",
       "      <td>98</td>\n",
       "      <td>127</td>\n",
       "      <td>AGGGCCAGGGATCAGATATCCACTGACCTT.NGG</td>\n",
       "      <td>55.044700</td>\n",
       "      <td>5.249049</td>\n",
       "      <td>783</td>\n",
       "      <td>LTR</td>\n",
       "      <td>NaN</td>\n",
       "    </tr>\n",
       "    <tr>\n",
       "      <th>3</th>\n",
       "      <td>25049410</td>\n",
       "      <td>LTR-B</td>\n",
       "      <td>312</td>\n",
       "      <td>341</td>\n",
       "      <td>CCN.GAGTACTTCAAGAACTGCTGACATCGAGCT</td>\n",
       "      <td>21.412639</td>\n",
       "      <td>4.605056</td>\n",
       "      <td>1345</td>\n",
       "      <td>LTR</td>\n",
       "      <td>NaN</td>\n",
       "    </tr>\n",
       "    <tr>\n",
       "      <th>4</th>\n",
       "      <td>25049410</td>\n",
       "      <td>LTR-C</td>\n",
       "      <td>78</td>\n",
       "      <td>97</td>\n",
       "      <td>GATTGGCAGAACTACACACC.NGG</td>\n",
       "      <td>70.325203</td>\n",
       "      <td>2.660178</td>\n",
       "      <td>492</td>\n",
       "      <td>LTR</td>\n",
       "      <td>81.0</td>\n",
       "    </tr>\n",
       "  </tbody>\n",
       "</table>\n",
       "</div>"
      ],
      "text/plain": [
       "   Citation   Name  Start  Stop                                gRNA  \\\n",
       "0  23974631     T5    465   484            GTTAGACCAGATCTGAGCCT.NGG   \n",
       "1  23974631     T6    343   362            GCTACAAGGGACTTTCCGCT.NGG   \n",
       "2  25049410  LTR-A     98   127  AGGGCCAGGGATCAGATATCCACTGACCTT.NGG   \n",
       "3  25049410  LTR-B    312   341  CCN.GAGTACTTCAAGAACTGCTGACATCGAGCT   \n",
       "4  25049410  LTR-C     78    97            GATTGGCAGAACTACACACC.NGG   \n",
       "\n",
       "   Percent cleaved  Entropy (bits)  Number of Sequences Evaluated Region  \\\n",
       "0        68.274303        2.615312                           1327    LTR   \n",
       "1        84.306293        2.959877                           1319    LTR   \n",
       "2        55.044700        5.249049                            783    LTR   \n",
       "3        21.412639        4.605056                           1345    LTR   \n",
       "4        70.325203        2.660178                            492    LTR   \n",
       "\n",
       "   MIT Score  \n",
       "0       67.0  \n",
       "1        NaN  \n",
       "2        NaN  \n",
       "3        NaN  \n",
       "4       81.0  "
      ]
     },
     "execution_count": 4,
     "metadata": {},
     "output_type": "execute_result"
    }
   ],
   "source": [
    "\n",
    "# The two datasets are merged and then the desired columns are extracted\n",
    "known = all_data.query('Cutoff == 0.75')\n",
    "\n",
    "cols = [u'Citation', u'Name', u'Start', 'Stop', u'gRNA', u'ProtoPamCut', u'Entropy', u'NumSeqs', 'Region']\n",
    "rd = {'ProtoPamCut': 'Percent cleaved', \n",
    "      'Entropy': 'Entropy (bits)', \n",
    "      'NumSeqs': 'Number of Sequences Evaluated',\n",
    "      'MITScore': 'MIT Score'}\n",
    "mdf = pd.merge(known[cols], \n",
    "               df.drop(['Seq', 'Strand', 'Stop'], axis=1),\n",
    "               on = 'Start', how = 'left').rename(columns = rd)\n",
    "mdf['Percent cleaved'] *= 100\n",
    "mdf.head()"
   ]
  },
  {
   "cell_type": "markdown",
   "metadata": {},
   "source": [
    "## AS50 calculation"
   ]
  },
  {
   "cell_type": "code",
   "execution_count": 16,
   "metadata": {
    "collapsed": false
   },
   "outputs": [
    {
     "data": {
      "text/html": [
       "<div>\n",
       "<table border=\"1\" class=\"dataframe\">\n",
       "  <thead>\n",
       "    <tr style=\"text-align: right;\">\n",
       "      <th></th>\n",
       "      <th>Citation</th>\n",
       "      <th>Name</th>\n",
       "      <th>Start</th>\n",
       "      <th>Stop</th>\n",
       "      <th>gRNA</th>\n",
       "      <th>Percent cleaved</th>\n",
       "      <th>Entropy (bits)</th>\n",
       "      <th>Number of Sequences Evaluated</th>\n",
       "      <th>Region</th>\n",
       "      <th>MIT Score</th>\n",
       "      <th>AS50</th>\n",
       "    </tr>\n",
       "  </thead>\n",
       "  <tbody>\n",
       "    <tr>\n",
       "      <th>0</th>\n",
       "      <td>23974631</td>\n",
       "      <td>T5</td>\n",
       "      <td>465</td>\n",
       "      <td>484</td>\n",
       "      <td>GTTAGACCAGATCTGAGCCT.NGG</td>\n",
       "      <td>68.274303</td>\n",
       "      <td>2.615312</td>\n",
       "      <td>1327</td>\n",
       "      <td>LTR</td>\n",
       "      <td>67.0</td>\n",
       "      <td>0.950000</td>\n",
       "    </tr>\n",
       "    <tr>\n",
       "      <th>1</th>\n",
       "      <td>23974631</td>\n",
       "      <td>T6</td>\n",
       "      <td>343</td>\n",
       "      <td>362</td>\n",
       "      <td>GCTACAAGGGACTTTCCGCT.NGG</td>\n",
       "      <td>84.306293</td>\n",
       "      <td>2.959877</td>\n",
       "      <td>1319</td>\n",
       "      <td>LTR</td>\n",
       "      <td>NaN</td>\n",
       "      <td>0.950000</td>\n",
       "    </tr>\n",
       "    <tr>\n",
       "      <th>2</th>\n",
       "      <td>25049410</td>\n",
       "      <td>LTR-A</td>\n",
       "      <td>98</td>\n",
       "      <td>127</td>\n",
       "      <td>AGGGCCAGGGATCAGATATCCACTGACCTT.NGG</td>\n",
       "      <td>55.044700</td>\n",
       "      <td>5.249049</td>\n",
       "      <td>783</td>\n",
       "      <td>LTR</td>\n",
       "      <td>NaN</td>\n",
       "      <td>0.950000</td>\n",
       "    </tr>\n",
       "    <tr>\n",
       "      <th>3</th>\n",
       "      <td>25049410</td>\n",
       "      <td>LTR-B</td>\n",
       "      <td>312</td>\n",
       "      <td>341</td>\n",
       "      <td>CCN.GAGTACTTCAAGAACTGCTGACATCGAGCT</td>\n",
       "      <td>21.412639</td>\n",
       "      <td>4.605056</td>\n",
       "      <td>1345</td>\n",
       "      <td>LTR</td>\n",
       "      <td>NaN</td>\n",
       "      <td>0.364521</td>\n",
       "    </tr>\n",
       "    <tr>\n",
       "      <th>4</th>\n",
       "      <td>25049410</td>\n",
       "      <td>LTR-C</td>\n",
       "      <td>78</td>\n",
       "      <td>97</td>\n",
       "      <td>GATTGGCAGAACTACACACC.NGG</td>\n",
       "      <td>70.325203</td>\n",
       "      <td>2.660178</td>\n",
       "      <td>492</td>\n",
       "      <td>LTR</td>\n",
       "      <td>81.0</td>\n",
       "      <td>0.950000</td>\n",
       "    </tr>\n",
       "  </tbody>\n",
       "</table>\n",
       "</div>"
      ],
      "text/plain": [
       "   Citation   Name  Start  Stop                                gRNA  \\\n",
       "0  23974631     T5    465   484            GTTAGACCAGATCTGAGCCT.NGG   \n",
       "1  23974631     T6    343   362            GCTACAAGGGACTTTCCGCT.NGG   \n",
       "2  25049410  LTR-A     98   127  AGGGCCAGGGATCAGATATCCACTGACCTT.NGG   \n",
       "3  25049410  LTR-B    312   341  CCN.GAGTACTTCAAGAACTGCTGACATCGAGCT   \n",
       "4  25049410  LTR-C     78    97            GATTGGCAGAACTACACACC.NGG   \n",
       "\n",
       "   Percent cleaved  Entropy (bits)  Number of Sequences Evaluated Region  \\\n",
       "0        68.274303        2.615312                           1327    LTR   \n",
       "1        84.306293        2.959877                           1319    LTR   \n",
       "2        55.044700        5.249049                            783    LTR   \n",
       "3        21.412639        4.605056                           1345    LTR   \n",
       "4        70.325203        2.660178                            492    LTR   \n",
       "\n",
       "   MIT Score      AS50  \n",
       "0       67.0  0.950000  \n",
       "1        NaN  0.950000  \n",
       "2        NaN  0.950000  \n",
       "3        NaN  0.364521  \n",
       "4       81.0  0.950000  "
      ]
     },
     "execution_count": 16,
     "metadata": {},
     "output_type": "execute_result"
    }
   ],
   "source": [
    "from scipy.interpolate import interp1d\n",
    "\n",
    "# Interpolate the AS75\n",
    "\n",
    "pdf = pd.pivot_table(all_data.query('Cutoff < 1'),\n",
    "                     index = ['Citation', 'Name'],\n",
    "                     columns = 'Cutoff',\n",
    "                     values = 'ProtoPamCut')\n",
    "\n",
    "def inter_row(row):\n",
    "    if row.min() > 0.50:\n",
    "        return 0.95\n",
    "    if row.max() < 0.5:\n",
    "        return 0\n",
    "    return interp1d(row.values, row.index)(0.50)\n",
    "    \n",
    "AS50 = pdf.apply(inter_row, axis=1)\n",
    "\n",
    "mdf['AS50'] = [float(AS50[(row['Citation'], row['Name'])]) for _, row in mdf.iterrows()]\n",
    "mdf.head()"
   ]
  },
  {
   "cell_type": "code",
   "execution_count": 30,
   "metadata": {
    "collapsed": false
   },
   "outputs": [
    {
     "data": {
      "image/png": "[encoded data removed]",
      "text/plain": [
       "<matplotlib.figure.Figure at 0x7f6eb404ee50>"
      ]
     },
     "metadata": {},
     "output_type": "display_data"
    }
   ],
   "source": [
    "fig, ax = plt.subplots(1,1)\n",
    "mdf['AS50'].plot(kind = 'hist', \n",
    "                 bins = np.arange(0, 1.1, 0.1),\n",
    "                 ax=ax)\n",
    "ax.set_xlabel('AS50')\n",
    "ax.set_ylabel('gRNAs')\n",
    "sbn.despine(ax=ax)"
   ]
  },
  {
   "cell_type": "markdown",
   "metadata": {},
   "source": [
    "__Figure:__ Most gRNAs will cleave 50% of patients at a cutoff score of 0.75 or above. The AS50 was calculated by determining the highest AS cutoff for which at least half of patient samples would be cleaved. The cutoff was aggregated into 0.1 bins and plotted as a histogram."
   ]
  },
  {
   "cell_type": "markdown",
   "metadata": {},
   "source": [
    "## Edit distance calculation"
   ]
  },
  {
   "cell_type": "code",
   "execution_count": 8,
   "metadata": {
    "collapsed": false
   },
   "outputs": [],
   "source": [
    "import glob\n",
    "\n",
    "def edit_distance(ideal, orig):\n",
    "    \n",
    "    return sum(i != o for i, o in zip(ideal, orig))\n",
    "\n",
    "\n",
    "def parse_grna(gRNA):\n",
    "    \"\"\"Extract and normalize the length of the protospacer\"\"\"\n",
    "    \n",
    "    parts = gRNA.split('.')\n",
    "    if len(parts[1]) == 3:\n",
    "        direc = 'Forward'\n",
    "        proto = parts[0][-20:]\n",
    "    else:\n",
    "        direc = 'Reverse'\n",
    "        proto = parts[1][:20]\n",
    "        \n",
    "    if len(proto) < 20:\n",
    "        proto = 'N'*(20-len(proto)) + proto\n",
    "        \n",
    "    return direc, proto\n",
    "\n",
    "freq_files = glob.glob('results/FrequencyTables/*.xlsx')\n",
    "ideals = []\n",
    "\n",
    "lookup = mdf.groupby(['Citation', 'Name'])['gRNA'].first()\n",
    "\n",
    "for f in freq_files:\n",
    "    \n",
    "    cit, name = f.split('/')[-1].split('.')[0].split('_')\n",
    "    \n",
    "    freqs = pd.read_excel(f)\n",
    "    ideal_grna = ''.join(freqs.idxmax().values)\n",
    "    \n",
    "    try:\n",
    "        orig_gRNA = lookup[int(cit)][name]\n",
    "    except KeyError:\n",
    "        try:\n",
    "            name = name.replace('-', ' ')\n",
    "            orig_gRNA = lookup[int(cit)][name]\n",
    "        except:\n",
    "            continue\n",
    "            \n",
    "    direc, orig_proto = parse_grna(orig_gRNA)\n",
    "    if direc == 'Reverse':\n",
    "        ideal_proto = ideal_grna[3:]\n",
    "    else:\n",
    "        ideal_proto = ideal_grna[:-3]\n",
    "    \n",
    "    ed = edit_distance(ideal_proto, orig_proto)\n",
    "\n",
    "    ideals.append({'Citation': int(cit),\n",
    "                   'Name': name,                   \n",
    "                   'Edit Distance': ed})\n",
    "    \n",
    "    \n",
    "ideal_df = pd.DataFrame(ideals)"
   ]
  },
  {
   "cell_type": "code",
   "execution_count": 31,
   "metadata": {
    "collapsed": false
   },
   "outputs": [
    {
     "data": {
      "image/png": "[encoded data removed]",
      "text/plain": [
       "<matplotlib.figure.Figure at 0x7f6ea4539b50>"
      ]
     },
     "metadata": {},
     "output_type": "display_data"
    }
   ],
   "source": [
    "fig, ax = plt.subplots(1,1)\n",
    "ideal_df['Edit Distance'].plot(kind='hist', \n",
    "                               bins = np.arange(0, 20, 1), \n",
    "                               ax=ax)\n",
    "ax.set_ylabel('gRNAs')\n",
    "ax.set_xlabel('Edit distance from LANL consensus')\n",
    "sbn.despine(ax=ax)"
   ]
  },
  {
   "cell_type": "markdown",
   "metadata": {},
   "source": [
    "__Figure:__ Most gRNAs (89%) are within a two edit distance to the consensus of patient sequecnes. Each gRNA was comparared to the observed frequency of the patient sequences to determine the number of bp that would need to be changed for an ideal match. The number of edits required for each gRNA was binned into 1bp bins and plotted as a histogram."
   ]
  },
  {
   "cell_type": "code",
   "execution_count": 28,
   "metadata": {
    "collapsed": true
   },
   "outputs": [],
   "source": [
    "# This is the final form of Supplemental Table 1\n",
    "\n",
    "mdf.to_excel('results/SupTable1.xlsx', index=False)"
   ]
  },
  {
   "cell_type": "code",
   "execution_count": null,
   "metadata": {
    "collapsed": true
   },
   "outputs": [],
   "source": []
  }
 ],
 "metadata": {
  "kernelspec": {
   "display_name": "Python 2",
   "language": "python",
   "name": "python2"
  },
  "language_info": {
   "codemirror_mode": {
    "name": "ipython",
    "version": 2
   },
   "file_extension": ".py",
   "mimetype": "text/x-python",
   "name": "python",
   "nbconvert_exporter": "python",
   "pygments_lexer": "ipython2",
   "version": "2.7.12"
  }
 },
 "nbformat": 4,
 "nbformat_minor": 0
}
